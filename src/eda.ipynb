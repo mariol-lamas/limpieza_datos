{
 "cells": [
  {
   "cell_type": "code",
   "execution_count": null,
   "metadata": {},
   "outputs": [],
   "source": [
    "from ucimlrepo import fetch_ucirepo \n",
    "import pandas as pd\n",
    "  \n",
    "# fetch dataset \n",
    "breast_cancer_wisconsin_original = fetch_ucirepo(id=15) "
   ]
  },
  {
   "cell_type": "code",
   "execution_count": null,
   "metadata": {},
   "outputs": [],
   "source": [
    "data_x=pd.DataFrame(breast_cancer_wisconsin_original.data.features)\n",
    "data_y=pd.DataFrame(breast_cancer_wisconsin_original.data.targets)"
   ]
  }
 ],
 "metadata": {
  "language_info": {
   "name": "python"
  }
 },
 "nbformat": 4,
 "nbformat_minor": 2
}
